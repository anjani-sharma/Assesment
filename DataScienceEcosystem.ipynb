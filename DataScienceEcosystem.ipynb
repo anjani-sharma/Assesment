{
 "cells": [
  {
   "cell_type": "markdown",
   "id": "3b4fe700-a69b-4aab-ba3f-9cd5edc61cc3",
   "metadata": {},
   "source": [
    "# Data Science Tools and Ecosystem"
   ]
  },
  {
   "cell_type": "markdown",
   "id": "89e97fe6-db6f-407b-9e31-4f9eb56df2f5",
   "metadata": {},
   "source": [
    "In this notebook, Data Science Tools and Ecosystem are summarized."
   ]
  },
  {
   "cell_type": "markdown",
   "id": "172954ed-0096-4abc-841e-a7250cb06b59",
   "metadata": {},
   "source": [
    "Some of the popular languages that Data Scientists use are:\n",
    "1. Python\n",
    "2. R\n",
    "3. C++\n",
    "4. Julia"
   ]
  },
  {
   "cell_type": "markdown",
   "id": "966d777b-c638-4b4a-b462-b528368c8b94",
   "metadata": {},
   "source": [
    "Some of the commonly used libraries used by Data Scientists include:\n",
    "1. Matplotlib \n",
    "2. NumPy\n",
    "3. Pandas\n",
    "4. Scipy\n",
    "5. PyGame"
   ]
  },
  {
   "cell_type": "markdown",
   "id": "c7b7728d-61bb-4d7d-ad87-863921c1b078",
   "metadata": {},
   "source": [
    "|Data Science Tools|\n",
    "|------------------|\n",
    "| R|\n",
    "|SAS|\n",
    "|Python|\n",
    "|Tableau|"
   ]
  },
  {
   "cell_type": "markdown",
   "id": "e6bcf95a-fffc-4ec0-9ad7-c8798dce405b",
   "metadata": {},
   "source": [
    "### Below are a few examples of evaluating arithmetic expressions in Python"
   ]
  },
  {
   "cell_type": "code",
   "execution_count": 1,
   "id": "084858af-07b2-4994-98b4-c0173fb2a124",
   "metadata": {
    "tags": []
   },
   "outputs": [
    {
     "data": {
      "text/plain": [
       "17"
      ]
     },
     "execution_count": 1,
     "metadata": {},
     "output_type": "execute_result"
    }
   ],
   "source": [
    "# This a simple arithmetic expression to mutiply then add integers\n",
    "(3*4)+5"
   ]
  },
  {
   "cell_type": "code",
   "execution_count": 2,
   "id": "169c0bb0-364a-4431-90bd-1cb7a3b746fc",
   "metadata": {
    "tags": []
   },
   "outputs": [
    {
     "data": {
      "text/plain": [
       "3.3333333333333335"
      ]
     },
     "execution_count": 2,
     "metadata": {},
     "output_type": "execute_result"
    }
   ],
   "source": [
    "# This will convert 200 minutes to hours by diving by 60\n",
    "200/60"
   ]
  },
  {
   "cell_type": "markdown",
   "id": "9d9c5f15-4d49-4e3c-aec4-3f1867b239b1",
   "metadata": {},
   "source": [
    "**Objectives:**\n",
    "- List popular languages for Data Science\n",
    "- evaluating arithmetic expressions in Python\n",
    "- List Data Science Tools\n",
    "- List commonly used libraries used by Data Scientists"
   ]
  },
  {
   "cell_type": "markdown",
   "id": "8dff54ef-0068-4dd9-b26c-4f85cbd1e32c",
   "metadata": {},
   "source": [
    "## Author\n",
    "Anjani Sharma"
   ]
  },
  {
   "cell_type": "code",
   "execution_count": null,
   "id": "cc64a6d8-fd69-45c6-929c-aa6b0a22d4e5",
   "metadata": {},
   "outputs": [],
   "source": []
  }
 ],
 "metadata": {
  "kernelspec": {
   "display_name": "Python",
   "language": "python",
   "name": "conda-env-python-py"
  },
  "language_info": {
   "codemirror_mode": {
    "name": "ipython",
    "version": 3
   },
   "file_extension": ".py",
   "mimetype": "text/x-python",
   "name": "python",
   "nbconvert_exporter": "python",
   "pygments_lexer": "ipython3",
   "version": "3.7.12"
  }
 },
 "nbformat": 4,
 "nbformat_minor": 5
}
